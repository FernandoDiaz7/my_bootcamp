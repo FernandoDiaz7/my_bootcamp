{
 "cells": [
  {
   "cell_type": "code",
   "execution_count": 2,
   "metadata": {},
   "outputs": [],
   "source": [
    "#Datatypes\n",
    "contador = 3\n",
    "numero_pi =3.141519\n",
    "cadena = \"python es lo maximo\"\n",
    "flag = True"
   ]
  },
  {
   "cell_type": "code",
   "execution_count": 3,
   "metadata": {},
   "outputs": [],
   "source": [
    "#Datatypes with typing\n",
    "contador: int = 3 \n",
    "numero_pi: float =3.141519\n",
    "cadena: str = \"python es lo maximo\"\n",
    "flag: bool = True"
   ]
  },
  {
   "cell_type": "code",
   "execution_count": 4,
   "metadata": {},
   "outputs": [
    {
     "name": "stdout",
     "output_type": "stream",
     "text": [
      "True\n",
      "True\n",
      "True\n"
     ]
    }
   ],
   "source": [
    "#Logical operator\n",
    "print(True and True)\n",
    "print(True or False)\n",
    "print(not False)"
   ]
  },
  {
   "cell_type": "code",
   "execution_count": 5,
   "metadata": {},
   "outputs": [
    {
     "name": "stdout",
     "output_type": "stream",
     "text": [
      "6\n",
      "3.5\n",
      "80\n",
      "4.5\n",
      "4\n",
      "1\n"
     ]
    }
   ],
   "source": [
    "#Aritmetic operator\n",
    "print(3+3) #suma\n",
    "print(10.9-7.4) #resta\n",
    "print(10*8) #multiplicacion\n",
    "print(9/2) #division\n",
    "print(9//2) #division entera\n",
    "print(9%2) #modulo es el residuo (resto)"
   ]
  },
  {
   "cell_type": "code",
   "execution_count": 6,
   "metadata": {},
   "outputs": [],
   "source": [
    "#Collections\n",
    "my_list = [1,2,3,4] #Es una coleccion ordenada y mutable (ordenada porque esta indexada)\n",
    "my_tuple = ('fish','chips') #Es una coleccion ordenada no mutable\n",
    "my_set = {\"a\",\"b\",\"c\"} #Es una coleccion no ordenada, mutable solo cuando se saca o se mete valores\n",
    "                       #(el valor a no lo puedo cambiar, lo que si puedo es sacarlo y meter otra cosa), sin repeticiones\n",
    "my_dict = {\"name\":\"Fernando\",\"last_name\":\"Diaz\"} #Es una coleccion llave:valor, es ordenada y mutable. No puedo tener llaves iguales"
   ]
  },
  {
   "cell_type": "code",
   "execution_count": 7,
   "metadata": {},
   "outputs": [
    {
     "data": {
      "text/plain": [
       "{'name': 'Carolina', 'last_name': 'Ruiz'}"
      ]
     },
     "execution_count": 7,
     "metadata": {},
     "output_type": "execute_result"
    }
   ],
   "source": [
    "my_list[3] #ordenada\n",
    "my_list[3] = 5 #mutable\n",
    "my_list\n",
    "\n",
    "my_tuple[1] #ordenada\n",
    "#my_tuple[1] = \"Bacon\" #no es mutable da error\n",
    "\n",
    "#my_set[2] #no es ordenada por eso da error\n",
    "\n",
    "my_second_set = {\"x\",\"y\",\"z\",\"x\"}\n",
    "my_second_set #valores UNICOS, NO puede haber repetidos\n",
    "\n",
    "my_dict[\"last_name\"]\n",
    "\n",
    "my_second_dict = {\"name\":\"Andrea\",\"name\":\"Carolina\",\"last_name\":\"Ruiz\"}\n",
    "my_second_dict #Aca veo que NO se puede duplicar llaves, te pone solo la ultima porque es ordenada"
   ]
  },
  {
   "cell_type": "code",
   "execution_count": 8,
   "metadata": {},
   "outputs": [
    {
     "name": "stdout",
     "output_type": "stream",
     "text": [
      "10 no es menor\n",
      "El equipo A gano\n"
     ]
    }
   ],
   "source": [
    "#Las tres estructuras de control: Sequence, Selection, Iteration (Este es el teorema de Bohm Jacopini)\n",
    "if 10 < 4:\n",
    "    print(\"10 es menor\")\n",
    "else:\n",
    "    print(\"10 no es menor\")\n",
    "\n",
    "score_team_a = 3\n",
    "score_team_b = 1\n",
    "\n",
    "if score_team_a < score_team_b:\n",
    "    print(\"El equipo A perdio\")\n",
    "elif score_team_a > score_team_b:\n",
    "    print(\"El equipo A gano\")\n",
    "else:\n",
    "    print(Empato)"
   ]
  },
  {
   "cell_type": "code",
   "execution_count": 9,
   "metadata": {},
   "outputs": [
    {
     "name": "stdout",
     "output_type": "stream",
     "text": [
      "7\n",
      "10\n",
      "5\n",
      "0\n",
      "4\n",
      "3\n",
      "2\n",
      "1\n"
     ]
    }
   ],
   "source": [
    "my_second_list = [7,10,5,0]\n",
    "\n",
    "for i in my_second_list:\n",
    "    print(i)\n",
    "\n",
    "my_number = 4\n",
    "\n",
    "while my_number > 0:\n",
    "    print(my_number)\n",
    "    my_number -= 1"
   ]
  },
  {
   "cell_type": "code",
   "execution_count": 10,
   "metadata": {},
   "outputs": [],
   "source": [
    "import numpy as np"
   ]
  },
  {
   "cell_type": "code",
   "execution_count": 11,
   "metadata": {},
   "outputs": [
    {
     "data": {
      "text/plain": [
       "array([6, 7, 8, 9])"
      ]
     },
     "execution_count": 11,
     "metadata": {},
     "output_type": "execute_result"
    }
   ],
   "source": [
    "my_vector = np.array([6,7,8,9])\n",
    "my_vector"
   ]
  },
  {
   "cell_type": "code",
   "execution_count": 12,
   "metadata": {},
   "outputs": [
    {
     "name": "stdout",
     "output_type": "stream",
     "text": [
      "[[6 7]\n",
      " [8 9]]\n",
      "(2, 2)\n"
     ]
    }
   ],
   "source": [
    "my_vector.shape\n",
    "\n",
    "my_matrix = np.array ([[6,7],[8,9]])\n",
    "print(my_matrix)\n",
    "print(my_matrix.shape)"
   ]
  },
  {
   "cell_type": "code",
   "execution_count": 13,
   "metadata": {},
   "outputs": [
    {
     "data": {
      "text/plain": [
       "np.float64(7.5)"
      ]
     },
     "execution_count": 13,
     "metadata": {},
     "output_type": "execute_result"
    }
   ],
   "source": [
    "np.mean(my_vector)"
   ]
  },
  {
   "cell_type": "code",
   "execution_count": 14,
   "metadata": {},
   "outputs": [
    {
     "data": {
      "text/plain": [
       "np.float64(1.118033988749895)"
      ]
     },
     "execution_count": 14,
     "metadata": {},
     "output_type": "execute_result"
    }
   ],
   "source": [
    "np.std(my_vector)"
   ]
  },
  {
   "cell_type": "code",
   "execution_count": 15,
   "metadata": {},
   "outputs": [],
   "source": [
    "import pandas as pd\n",
    "import matplotlib.pyplot as plt"
   ]
  },
  {
   "cell_type": "code",
   "execution_count": 16,
   "metadata": {},
   "outputs": [
    {
     "data": {
      "text/html": [
       "<div>\n",
       "<style scoped>\n",
       "    .dataframe tbody tr th:only-of-type {\n",
       "        vertical-align: middle;\n",
       "    }\n",
       "\n",
       "    .dataframe tbody tr th {\n",
       "        vertical-align: top;\n",
       "    }\n",
       "\n",
       "    .dataframe thead th {\n",
       "        text-align: right;\n",
       "    }\n",
       "</style>\n",
       "<table border=\"1\" class=\"dataframe\">\n",
       "  <thead>\n",
       "    <tr style=\"text-align: right;\">\n",
       "      <th></th>\n",
       "      <th>age</th>\n",
       "      <th>weight</th>\n",
       "      <th>sportive</th>\n",
       "    </tr>\n",
       "  </thead>\n",
       "  <tbody>\n",
       "    <tr>\n",
       "      <th>0</th>\n",
       "      <td>23</td>\n",
       "      <td>70</td>\n",
       "      <td>si</td>\n",
       "    </tr>\n",
       "    <tr>\n",
       "      <th>1</th>\n",
       "      <td>45</td>\n",
       "      <td>80</td>\n",
       "      <td>no</td>\n",
       "    </tr>\n",
       "    <tr>\n",
       "      <th>2</th>\n",
       "      <td>33</td>\n",
       "      <td>65</td>\n",
       "      <td>si</td>\n",
       "    </tr>\n",
       "    <tr>\n",
       "      <th>3</th>\n",
       "      <td>29</td>\n",
       "      <td>72</td>\n",
       "      <td>si</td>\n",
       "    </tr>\n",
       "  </tbody>\n",
       "</table>\n",
       "</div>"
      ],
      "text/plain": [
       "   age  weight sportive\n",
       "0   23      70       si\n",
       "1   45      80       no\n",
       "2   33      65       si\n",
       "3   29      72       si"
      ]
     },
     "execution_count": 16,
     "metadata": {},
     "output_type": "execute_result"
    }
   ],
   "source": [
    "df = pd.DataFrame({\"age\":[23,45,33,29], \"weight\":[70,80,65,72], \"sportive\":[\"si\",\"no\",\"si\",\"si\"]})\n",
    "df"
   ]
  },
  {
   "cell_type": "code",
   "execution_count": 17,
   "metadata": {},
   "outputs": [
    {
     "data": {
      "text/plain": [
       "sportive\n",
       "si    3\n",
       "no    1\n",
       "Name: count, dtype: int64"
      ]
     },
     "execution_count": 17,
     "metadata": {},
     "output_type": "execute_result"
    }
   ],
   "source": [
    "df[\"sportive\"].value_counts()"
   ]
  },
  {
   "cell_type": "code",
   "execution_count": 24,
   "metadata": {},
   "outputs": [
    {
     "data": {
      "image/png": "[encoded data removed]",
      "text/plain": [
       "<Figure size 640x480 with 1 Axes>"
      ]
     },
     "metadata": {},
     "output_type": "display_data"
    }
   ],
   "source": [
    "plt.plot(df[\"age\"])\n",
    "plt.title(\"Grafico de lineas\")\n",
    "plt.show()"
   ]
  },
  {
   "cell_type": "code",
   "execution_count": 27,
   "metadata": {},
   "outputs": [
    {
     "data": {
      "image/png": "[encoded data removed]",
      "text/plain": [
       "<Figure size 640x480 with 1 Axes>"
      ]
     },
     "metadata": {},
     "output_type": "display_data"
    }
   ],
   "source": [
    "plt.bar([1,2,3,4],df[\"age\"])\n",
    "plt.title(\"Grafico de barras\")\n",
    "plt.show()"
   ]
  }
 ],
 "metadata": {
  "kernelspec": {
   "display_name": ".venv",
   "language": "python",
   "name": "python3"
  },
  "language_info": {
   "codemirror_mode": {
    "name": "ipython",
    "version": 3
   },
   "file_extension": ".py",
   "mimetype": "text/x-python",
   "name": "python",
   "nbconvert_exporter": "python",
   "pygments_lexer": "ipython3",
   "version": "3.12.1"
  }
 },
 "nbformat": 4,
 "nbformat_minor": 2
}
